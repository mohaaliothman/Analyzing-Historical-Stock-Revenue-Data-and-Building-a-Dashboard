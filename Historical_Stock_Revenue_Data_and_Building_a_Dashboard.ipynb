{
  "nbformat": 4,
  "nbformat_minor": 0,
  "metadata": {
    "colab": {
      "private_outputs": true,
      "provenance": []
    },
    "kernelspec": {
      "name": "python3",
      "display_name": "Python 3"
    },
    "language_info": {
      "name": "python"
    }
  },
  "cells": [
    {
      "cell_type": "code",
      "execution_count": null,
      "metadata": {
        "collapsed": true,
        "id": "jyq6TCShDeqz"
      },
      "outputs": [],
      "source": [
        "!pip install yfinance"
      ]
    },
    {
      "cell_type": "code",
      "source": [
        "import yfinance as yf\n",
        "import pandas as pd"
      ],
      "metadata": {
        "id": "uACEPhpADqsX"
      },
      "execution_count": null,
      "outputs": []
    },
    {
      "cell_type": "code",
      "source": [
        "tesla = yf.Ticker('TSLA')"
      ],
      "metadata": {
        "id": "m6MsN4hoDuSu"
      },
      "execution_count": null,
      "outputs": []
    },
    {
      "cell_type": "code",
      "source": [
        "tesla_data = tesla.history(period='max')"
      ],
      "metadata": {
        "id": "PMo__opmDzJr"
      },
      "execution_count": null,
      "outputs": []
    },
    {
      "cell_type": "code",
      "source": [
        "tesla_data.reset_index(inplace=True)\n",
        "tesla_data.head()"
      ],
      "metadata": {
        "id": "uDWQCSGPD7jX"
      },
      "execution_count": null,
      "outputs": []
    },
    {
      "cell_type": "code",
      "source": [
        "import pandas as pd\n",
        "import requests\n",
        "from bs4 import BeautifulSoup"
      ],
      "metadata": {
        "id": "HvADb0r8EHPS"
      },
      "execution_count": null,
      "outputs": []
    },
    {
      "cell_type": "code",
      "source": [
        "url = \"https://cf-courses-data.s3.us.cloud-object-storage.appdomain.cloud/\" \\\n",
        "      \"IBMDeveloperSkillsNetwork-PY0220EN-SkillsNetwork/labs/project/tesla_revenue.html\""
      ],
      "metadata": {
        "id": "OKmY3M3vEhaF"
      },
      "execution_count": null,
      "outputs": []
    },
    {
      "cell_type": "code",
      "source": [
        "response = requests.get(url)\n",
        "html_data = response.text"
      ],
      "metadata": {
        "id": "0C3XM3LuElFd"
      },
      "execution_count": null,
      "outputs": []
    },
    {
      "cell_type": "code",
      "source": [
        "soup = BeautifulSoup(html_data, \"html.parser\")"
      ],
      "metadata": {
        "collapsed": true,
        "id": "t_Z8IqpaErtm"
      },
      "execution_count": null,
      "outputs": []
    },
    {
      "cell_type": "code",
      "source": [
        "tables = soup.find_all(\"table\")\n",
        "print(f\"Number of tables found: {len(tables)}\")"
      ],
      "metadata": {
        "id": "d77MUWjzE3Dp"
      },
      "execution_count": null,
      "outputs": []
    },
    {
      "cell_type": "code",
      "source": [
        "revenue_table = None\n",
        "for table in tables:\n",
        "    if \"Revenue\" in str(table):\n",
        "        revenue_table = table\n",
        "        break"
      ],
      "metadata": {
        "id": "VesVtXZPE3lX"
      },
      "execution_count": null,
      "outputs": []
    },
    {
      "cell_type": "code",
      "source": [
        "tesla_revenue.tail()"
      ],
      "metadata": {
        "id": "RIsKpR_jHQL9"
      },
      "execution_count": null,
      "outputs": []
    },
    {
      "cell_type": "code",
      "source": [
        "gme = yf.Ticker(\"GME\")\n",
        "gme_data = gme.history(period=\"max\")\n",
        "gme_data.reset_index(inplace=True)\n",
        "print(\"GameStop Data:\")\n",
        "display(gme_data.head())"
      ],
      "metadata": {
        "id": "-P3WQ7clH9Ii"
      },
      "execution_count": null,
      "outputs": []
    },
    {
      "cell_type": "code",
      "source": [
        "url = \"https://cf-courses-data.s3.us.cloud-object-storage.appdomain.cloud/\" \\\n",
        "      \"IBMDeveloperSkillsNetwork-PY0220EN-SkillsNetwork/labs/project/gme_revenue.html\""
      ],
      "metadata": {
        "id": "zNaqPMlrIVeI"
      },
      "execution_count": null,
      "outputs": []
    },
    {
      "cell_type": "code",
      "source": [
        "html_data = requests.get(url).text\n"
      ],
      "metadata": {
        "id": "ztzQNpKoIa7W"
      },
      "execution_count": null,
      "outputs": []
    },
    {
      "cell_type": "code",
      "source": [
        "soup = BeautifulSoup(html_data, \"html.parser\")"
      ],
      "metadata": {
        "collapsed": true,
        "id": "3wnwiS1yIcCY"
      },
      "execution_count": null,
      "outputs": []
    },
    {
      "cell_type": "code",
      "source": [
        "tables = soup.find_all(\"table\")"
      ],
      "metadata": {
        "id": "VoHrK3mUIdwK"
      },
      "execution_count": null,
      "outputs": []
    },
    {
      "cell_type": "code",
      "source": [
        "gme_revenue_table = None\n",
        "for table in tables:\n",
        "    if \"Revenue\" in str(table):\n",
        "        gme_revenue_table = table\n",
        "        break"
      ],
      "metadata": {
        "id": "37IYMuHWIwdX"
      },
      "execution_count": null,
      "outputs": []
    },
    {
      "cell_type": "code",
      "source": [
        "gme_revenue = pd.DataFrame(columns=[\"Date\", \"Revenue\"])"
      ],
      "metadata": {
        "id": "5xvT1IpIImhl"
      },
      "execution_count": null,
      "outputs": []
    },
    {
      "cell_type": "code",
      "source": [
        "gme_revenue = gme_revenue[gme_revenue[\"Revenue\"] != \"\"]\n",
        "gme_revenue = gme_revenue[gme_revenue[\"Revenue\"] != \"-\"]"
      ],
      "metadata": {
        "id": "81QGB6JqIfuK"
      },
      "execution_count": null,
      "outputs": []
    },
    {
      "cell_type": "code",
      "source": [
        "gme_revenue.tail()"
      ],
      "metadata": {
        "id": "uxxD-f6xIoW7"
      },
      "execution_count": null,
      "outputs": []
    },
    {
      "cell_type": "code",
      "source": [
        "import plotly.graph_objects as go\n",
        "from plotly.subplots import make_subplots"
      ],
      "metadata": {
        "id": "yxKi7V5LIqHF"
      },
      "execution_count": null,
      "outputs": []
    },
    {
      "cell_type": "code",
      "source": [
        "def make_graph(stock_data, title):\n",
        "    fig = go.Figure()\n",
        "    fig.add_trace(go.Scatter(\n",
        "        x=stock_data['Date'],\n",
        "        y=stock_data['Close'],\n",
        "        mode='lines',\n",
        "        name='Close Price'\n",
        "    ))\n",
        "    fig.update_layout(\n",
        "        title=title,\n",
        "        xaxis_title='Date',\n",
        "        yaxis_title='Price (USD)'\n",
        "    )\n",
        "    fig.show()\n",
        "\n",
        "make_graph(tesla_data, \"Tesla Stock Price Over Time\")\n"
      ],
      "metadata": {
        "id": "NzrXcDs0Mmsp"
      },
      "execution_count": null,
      "outputs": []
    },
    {
      "cell_type": "code",
      "source": [
        "import plotly.graph_objects as go\n",
        "\n",
        "def make_graph(stock_data, title):\n",
        "    fig = go.Figure()\n",
        "    fig.add_trace(go.Scatter(x=stock_data['Date'], y=stock_data['Close'], mode='lines', name='Close Price'))\n",
        "    fig.update_layout(title=title, xaxis_title='Date', yaxis_title='Price USD')\n",
        "    fig.show()\n",
        "\n",
        "make_graph(gme_data, \"GameStop Stock Price Over Time\")\n"
      ],
      "metadata": {
        "id": "P-wA3XCUKUkg"
      },
      "execution_count": null,
      "outputs": []
    },
    {
      "cell_type": "code",
      "source": [],
      "metadata": {
        "id": "rKwgEcIHLpOX"
      },
      "execution_count": null,
      "outputs": []
    }
  ]
}